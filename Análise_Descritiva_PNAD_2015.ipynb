{
  "nbformat": 4,
  "nbformat_minor": 0,
  "metadata": {
    "colab": {
      "name": "Análise_Descritiva_PNAD_2015.ipynb",
      "provenance": [],
      "collapsed_sections": [
        "9ppt5JevTg1-",
        "w45i-qJ1Tg2E",
        "2jLZmww2Tg2O",
        "ibndm9iwTg2i",
        "57aHvJMSTg2l",
        "ROiIQRFhTg2o",
        "bl0fOMuKTg2q",
        "zeRhvtngTg2r",
        "1Rm1n7a_Tg2u",
        "LrEECOmNTg2w",
        "0fIFSxj8Tg2x",
        "6NfAKimkTg2y",
        "7ssOt3MRTg22"
      ],
      "include_colab_link": true
    },
    "kernelspec": {
      "display_name": "Python 3",
      "language": "python",
      "name": "python3"
    },
    "language_info": {
      "codemirror_mode": {
        "name": "ipython",
        "version": 3
      },
      "file_extension": ".py",
      "mimetype": "text/x-python",
      "name": "python",
      "nbconvert_exporter": "python",
      "pygments_lexer": "ipython3",
      "version": "3.6.5"
    }
  },
  "cells": [
    {
      "cell_type": "markdown",
      "metadata": {
        "id": "view-in-github",
        "colab_type": "text"
      },
      "source": [
        "<a href=\"https://colab.research.google.com/github/pedroolins/Analise-descritiva-PNAD-2015/blob/main/An%C3%A1lise_Descritiva_PNAD_2015.ipynb\" target=\"_parent\"><img src=\"https://colab.research.google.com/assets/colab-badge.svg\" alt=\"Open In Colab\"/></a>"
      ]
    },
    {
      "cell_type": "markdown",
      "metadata": {
        "id": "WvMflodMjQKe"
      },
      "source": [
        "***\n",
        "# <font color=green size=10> PROJETO DO CURSO DE ESTATÍSTICA ALURA - PARTE 1</font>\n",
        "***\n",
        "\n",
        "## Projeto de Análise Descritiva de um Conjunto de Dados\n",
        "\n",
        "Utilizando os conhecimentos adquiridos no treinamento realizei uma análise descritiva básica de um conjunto de dados retirados da Pesquisa Nacional por Amostra de Domicílios - 2015 do IBGE. \n",
        "\n",
        "Irei construir histogramas, calcular e avaliar medidas de tendência central, medidas separatrizes e de dispersão dos dados."
      ]
    },
    {
      "cell_type": "markdown",
      "metadata": {
        "id": "cVgsZ_E3jQKg"
      },
      "source": [
        "# <font color=green>DATASET DO PROJETO</font>\n",
        "***"
      ]
    },
    {
      "cell_type": "markdown",
      "metadata": {
        "id": "iN1gIbaKjQKh"
      },
      "source": [
        "### Pesquisa Nacional por Amostra de Domicílios - 2015\n",
        "\n",
        "A <b>Pesquisa Nacional por Amostra de Domicílios - PNAD</b> investiga anualmente, de forma permanente, características gerais da população, de educação, trabalho, rendimento e habitação e outras, com periodicidade variável, de acordo com as necessidades de informação para o país, como as características sobre migração, fecundidade, nupcialidade, saúde, segurança alimentar, entre outros temas. O levantamento dessas estatísticas constitui, ao longo dos 49 anos de realização da pesquisa, um importante instrumento para formulação, validação e avaliação de políticas orientadas para o desenvolvimento socioeconômico e a melhoria das condições de vida no Brasil."
      ]
    },
    {
      "cell_type": "markdown",
      "metadata": {
        "id": "U6V7br1RjQKi"
      },
      "source": [
        "### Fonte dos Dados\n",
        "\n",
        "https://ww2.ibge.gov.br/home/estatistica/populacao/trabalhoerendimento/pnad2015/microdados.shtm"
      ]
    },
    {
      "cell_type": "markdown",
      "metadata": {
        "id": "r0Fe_qnzjQKj"
      },
      "source": [
        "### Variáveis utilizadas\n",
        "\n",
        "> ### Renda\n",
        "> ***\n",
        "\n",
        "Rendimento mensal do trabalho principal para pessoas de 10 anos ou mais de idade.\n",
        "\n",
        "> ### Idade\n",
        "> ***\n",
        "\n",
        "Idade do morador na data de referência em anos.\n",
        "\n",
        "> ### Altura (elaboração própria)\n",
        "> ***\n",
        "\n",
        "Altura do morador em metros.\n",
        "\n",
        "> ### UF\n",
        "> ***\n",
        "\n",
        "|Código|Descrição|\n",
        "|---|---|\n",
        "|11|Rondônia|\n",
        "|12|Acre|\n",
        "|13|Amazonas|\n",
        "|14|Roraima|\n",
        "|15|Pará|\n",
        "|16|Amapá|\n",
        "|17|Tocantins|\n",
        "|21|Maranhão|\n",
        "|22|Piauí|\n",
        "|23|Ceará|\n",
        "|24|Rio Grande do Norte|\n",
        "|25|Paraíba|\n",
        "|26|Pernambuco|\n",
        "|27|Alagoas|\n",
        "|28|Sergipe|\n",
        "|29|Bahia|\n",
        "|31|Minas Gerais|\n",
        "|32|Espírito Santo|\n",
        "|33|Rio de Janeiro|\n",
        "|35|São Paulo|\n",
        "|41|Paraná|\n",
        "|42|Santa Catarina|\n",
        "|43|Rio Grande do Sul|\n",
        "|50|Mato Grosso do Sul|\n",
        "|51|Mato Grosso|\n",
        "|52|Goiás|\n",
        "|53|Distrito Federal|\n",
        "\n",
        "> ### Sexo\t\n",
        "> ***\n",
        "\n",
        "|Código|Descrição|\n",
        "|---|---|\n",
        "|0|Masculino|\n",
        "|1|Feminino|\n",
        "\n",
        "> ### Anos de Estudo\n",
        "> ***\n",
        "\n",
        "|Código|Descrição|\n",
        "|---|---|\n",
        "|1|Sem instrução e menos de 1 ano|\n",
        "|2|1 ano|\n",
        "|3|2 anos|\n",
        "|4|3 anos|\n",
        "|5|4 anos|\n",
        "|6|5 anos|\n",
        "|7|6 anos|\n",
        "|8|7 anos|\n",
        "|9|8 anos|\n",
        "|10|9 anos|\n",
        "|11|10 anos|\n",
        "|12|11 anos|\n",
        "|13|12 anos|\n",
        "|14|13 anos|\n",
        "|15|14 anos|\n",
        "|16|15 anos ou mais|\n",
        "|17|Não determinados| \n",
        "||Não aplicável|\n",
        "\n",
        "> ### Cor\n",
        "> ***\n",
        "\n",
        "|Código|Descrição|\n",
        "|---|---|\n",
        "|0|Indígena|\n",
        "|2|Branca|\n",
        "|4|Preta|\n",
        "|6|Amarela|\n",
        "|8|Parda|\n",
        "|9|Sem declaração|"
      ]
    },
    {
      "cell_type": "markdown",
      "metadata": {
        "id": "OK1IQH5cX7Gb"
      },
      "source": [
        "#### <font color='red'>Observação</font>\n",
        "***\n",
        "> Os seguintes tratamentos foram realizados nos dados originais:\n",
        "> 1. Foram eliminados os registros onde a <b>Renda</b> era inválida (999 999 999 999);\n",
        "> 2. Foram eliminados os registros onde a <b>Renda</b> era missing;\n",
        "> 3. Foram considerados somente os registros das <b>Pessoas de Referência</b> de cada domicílio (responsável pelo domicílio)."
      ]
    },
    {
      "cell_type": "markdown",
      "metadata": {
        "id": "ZIqLOffNTg1Y"
      },
      "source": [
        "***\n",
        "***"
      ]
    },
    {
      "cell_type": "markdown",
      "metadata": {
        "id": "XLDf-l3I2a4D"
      },
      "source": [
        "### Importando bibliotecas que irei utilizar"
      ]
    },
    {
      "cell_type": "code",
      "metadata": {
        "id": "fcTgimHBybMz"
      },
      "source": [
        "import pandas as pd \n",
        "import seaborn as sns\n",
        "import numpy as np"
      ],
      "execution_count": 8,
      "outputs": []
    },
    {
      "cell_type": "markdown",
      "metadata": {
        "id": "2a-gvBvCULwt"
      },
      "source": [
        "### Importanndo o dataset e armazenando o conteúdo em uma DataFrame\n",
        "\n",
        "\n"
      ]
    },
    {
      "cell_type": "code",
      "metadata": {
        "id": "ufRZ7TLwjQKo"
      },
      "source": [
        "dados = pd.read_csv('dados.csv')"
      ],
      "execution_count": 9,
      "outputs": []
    },
    {
      "cell_type": "markdown",
      "metadata": {
        "id": "Oq3CKHCmTg1j"
      },
      "source": [
        "### Visualizando o conteúdo do DataFrame"
      ]
    },
    {
      "cell_type": "code",
      "metadata": {
        "colab": {
          "base_uri": "https://localhost:8080/",
          "height": 402
        },
        "id": "GsC_WhLFjQKq",
        "scrolled": true,
        "outputId": "e4284381-63ad-48d9-ca10-af121967f98c"
      },
      "source": [
        "dados"
      ],
      "execution_count": 10,
      "outputs": [
        {
          "output_type": "execute_result",
          "data": {
            "text/html": [
              "<div>\n",
              "<style scoped>\n",
              "    .dataframe tbody tr th:only-of-type {\n",
              "        vertical-align: middle;\n",
              "    }\n",
              "\n",
              "    .dataframe tbody tr th {\n",
              "        vertical-align: top;\n",
              "    }\n",
              "\n",
              "    .dataframe thead th {\n",
              "        text-align: right;\n",
              "    }\n",
              "</style>\n",
              "<table border=\"1\" class=\"dataframe\">\n",
              "  <thead>\n",
              "    <tr style=\"text-align: right;\">\n",
              "      <th></th>\n",
              "      <th>UF</th>\n",
              "      <th>Sexo</th>\n",
              "      <th>Idade</th>\n",
              "      <th>Cor</th>\n",
              "      <th>Anos de Estudo</th>\n",
              "      <th>Renda</th>\n",
              "      <th>Altura</th>\n",
              "    </tr>\n",
              "  </thead>\n",
              "  <tbody>\n",
              "    <tr>\n",
              "      <th>0</th>\n",
              "      <td>11</td>\n",
              "      <td>0</td>\n",
              "      <td>23</td>\n",
              "      <td>8</td>\n",
              "      <td>12</td>\n",
              "      <td>800</td>\n",
              "      <td>1.603808</td>\n",
              "    </tr>\n",
              "    <tr>\n",
              "      <th>1</th>\n",
              "      <td>11</td>\n",
              "      <td>1</td>\n",
              "      <td>23</td>\n",
              "      <td>2</td>\n",
              "      <td>12</td>\n",
              "      <td>1150</td>\n",
              "      <td>1.739790</td>\n",
              "    </tr>\n",
              "    <tr>\n",
              "      <th>2</th>\n",
              "      <td>11</td>\n",
              "      <td>1</td>\n",
              "      <td>35</td>\n",
              "      <td>8</td>\n",
              "      <td>15</td>\n",
              "      <td>880</td>\n",
              "      <td>1.760444</td>\n",
              "    </tr>\n",
              "    <tr>\n",
              "      <th>3</th>\n",
              "      <td>11</td>\n",
              "      <td>0</td>\n",
              "      <td>46</td>\n",
              "      <td>2</td>\n",
              "      <td>6</td>\n",
              "      <td>3500</td>\n",
              "      <td>1.783158</td>\n",
              "    </tr>\n",
              "    <tr>\n",
              "      <th>4</th>\n",
              "      <td>11</td>\n",
              "      <td>1</td>\n",
              "      <td>47</td>\n",
              "      <td>8</td>\n",
              "      <td>9</td>\n",
              "      <td>150</td>\n",
              "      <td>1.690631</td>\n",
              "    </tr>\n",
              "    <tr>\n",
              "      <th>...</th>\n",
              "      <td>...</td>\n",
              "      <td>...</td>\n",
              "      <td>...</td>\n",
              "      <td>...</td>\n",
              "      <td>...</td>\n",
              "      <td>...</td>\n",
              "      <td>...</td>\n",
              "    </tr>\n",
              "    <tr>\n",
              "      <th>76835</th>\n",
              "      <td>53</td>\n",
              "      <td>1</td>\n",
              "      <td>46</td>\n",
              "      <td>2</td>\n",
              "      <td>11</td>\n",
              "      <td>812</td>\n",
              "      <td>1.687030</td>\n",
              "    </tr>\n",
              "    <tr>\n",
              "      <th>76836</th>\n",
              "      <td>53</td>\n",
              "      <td>0</td>\n",
              "      <td>30</td>\n",
              "      <td>4</td>\n",
              "      <td>7</td>\n",
              "      <td>1500</td>\n",
              "      <td>1.792934</td>\n",
              "    </tr>\n",
              "    <tr>\n",
              "      <th>76837</th>\n",
              "      <td>53</td>\n",
              "      <td>0</td>\n",
              "      <td>32</td>\n",
              "      <td>8</td>\n",
              "      <td>12</td>\n",
              "      <td>1300</td>\n",
              "      <td>1.830587</td>\n",
              "    </tr>\n",
              "    <tr>\n",
              "      <th>76838</th>\n",
              "      <td>53</td>\n",
              "      <td>0</td>\n",
              "      <td>57</td>\n",
              "      <td>8</td>\n",
              "      <td>4</td>\n",
              "      <td>1500</td>\n",
              "      <td>1.726344</td>\n",
              "    </tr>\n",
              "    <tr>\n",
              "      <th>76839</th>\n",
              "      <td>53</td>\n",
              "      <td>0</td>\n",
              "      <td>38</td>\n",
              "      <td>8</td>\n",
              "      <td>4</td>\n",
              "      <td>900</td>\n",
              "      <td>1.658305</td>\n",
              "    </tr>\n",
              "  </tbody>\n",
              "</table>\n",
              "<p>76840 rows × 7 columns</p>\n",
              "</div>"
            ],
            "text/plain": [
              "       UF  Sexo  Idade  Cor  Anos de Estudo  Renda    Altura\n",
              "0      11     0     23    8              12    800  1.603808\n",
              "1      11     1     23    2              12   1150  1.739790\n",
              "2      11     1     35    8              15    880  1.760444\n",
              "3      11     0     46    2               6   3500  1.783158\n",
              "4      11     1     47    8               9    150  1.690631\n",
              "...    ..   ...    ...  ...             ...    ...       ...\n",
              "76835  53     1     46    2              11    812  1.687030\n",
              "76836  53     0     30    4               7   1500  1.792934\n",
              "76837  53     0     32    8              12   1300  1.830587\n",
              "76838  53     0     57    8               4   1500  1.726344\n",
              "76839  53     0     38    8               4    900  1.658305\n",
              "\n",
              "[76840 rows x 7 columns]"
            ]
          },
          "metadata": {
            "tags": []
          },
          "execution_count": 10
        }
      ]
    },
    {
      "cell_type": "markdown",
      "metadata": {
        "id": "HDrFJQitTg1n"
      },
      "source": [
        "### Para avaliarmos o comportamento da variável RENDA vamos construir uma tabela de frequências considerando as seguintes classes em salários mínimos (SM)\n",
        "\n",
        "Classes de renda:\n",
        "\n",
        "<b>A</b> ► Acima de 25 SM\n",
        "\n",
        "<b>B</b> ► De 15 a 25 SM\n",
        "\n",
        "<b>C</b> ► De 5 a 15 SM\n",
        "\n",
        "<b>D</b> ► De 2 a 5 SM\n",
        "\n",
        "<b>E</b> ► Até 2 SM\n",
        "\n",
        "Para construir as classes de renda foi observado que o salário mínimo na época da pesquisa era de <b>R$ 788,00</b>.\n",
        "\n"
      ]
    },
    {
      "cell_type": "markdown",
      "metadata": {
        "id": "zJBkeGxiTg1o"
      },
      "source": [
        "### 1º Definindo os intevalos das classes em reais (R$)"
      ]
    },
    {
      "cell_type": "code",
      "metadata": {
        "colab": {
          "base_uri": "https://localhost:8080/"
        },
        "id": "-Ct3QUj6Tg1p",
        "outputId": "456dc5ba-d836-45c5-a21c-d063a55c1d1b"
      },
      "source": [
        "# observando qual valor minimo e max do nosso dataset\n",
        "min = dados.Renda.min()\n",
        "max = dados.Renda.max()\n",
        "classes = [min, 2*788, 5*788, 15*788, 25*788, max]\n",
        "print(classes)"
      ],
      "execution_count": 11,
      "outputs": [
        {
          "output_type": "stream",
          "text": [
            "[0, 1576, 3940, 11820, 19700, 200000]\n"
          ],
          "name": "stdout"
        }
      ]
    },
    {
      "cell_type": "markdown",
      "metadata": {
        "id": "dZ7X37CGTg1t"
      },
      "source": [
        "### 2º Definindo os labels das classes"
      ]
    },
    {
      "cell_type": "code",
      "metadata": {
        "colab": {
          "base_uri": "https://localhost:8080/"
        },
        "id": "4UFOzitTTg1u",
        "outputId": "d43fbe37-1cb1-4cd2-d6dd-159c92558316"
      },
      "source": [
        "labels = ['E', 'D', 'C', 'B', 'A']\n",
        "labels"
      ],
      "execution_count": 12,
      "outputs": [
        {
          "output_type": "execute_result",
          "data": {
            "text/plain": [
              "['E', 'D', 'C', 'B', 'A']"
            ]
          },
          "metadata": {
            "tags": []
          },
          "execution_count": 12
        }
      ]
    },
    {
      "cell_type": "markdown",
      "metadata": {
        "id": "umFq1o-UTg1w"
      },
      "source": [
        "### 3º Construindo a coluna de frequências"
      ]
    },
    {
      "cell_type": "code",
      "metadata": {
        "colab": {
          "base_uri": "https://localhost:8080/"
        },
        "id": "uSztBoqOTg1x",
        "outputId": "e0e394b0-6e16-4ea4-fd10-943f3b8564eb"
      },
      "source": [
        "frequencia = pd.value_counts(pd.cut(x = dados.Renda, bins = classes, \n",
        "                      labels = labels, include_lowest = True))\n",
        "frequencia"
      ],
      "execution_count": 13,
      "outputs": [
        {
          "output_type": "execute_result",
          "data": {
            "text/plain": [
              "E    49755\n",
              "D    18602\n",
              "C     7241\n",
              "B      822\n",
              "A      420\n",
              "Name: Renda, dtype: int64"
            ]
          },
          "metadata": {
            "tags": []
          },
          "execution_count": 13
        }
      ]
    },
    {
      "cell_type": "markdown",
      "metadata": {
        "id": "2k6nGUZKTg11"
      },
      "source": [
        "### 4º Construindo a coluna de percentuais"
      ]
    },
    {
      "cell_type": "code",
      "metadata": {
        "colab": {
          "base_uri": "https://localhost:8080/"
        },
        "id": "rdwUABsnTg12",
        "outputId": "8ab02b1c-ce07-404a-fdb4-60c27cc9b8b2"
      },
      "source": [
        "percentual = pd.cut(x = dados.Renda, bins = classes,\n",
        "                              labels= labels, \n",
        "                              include_lowest = True).value_counts(normalize = True).round(2)*100\n",
        "percentual"
      ],
      "execution_count": 14,
      "outputs": [
        {
          "output_type": "execute_result",
          "data": {
            "text/plain": [
              "E    65.0\n",
              "D    24.0\n",
              "C     9.0\n",
              "B     1.0\n",
              "A     1.0\n",
              "Name: Renda, dtype: float64"
            ]
          },
          "metadata": {
            "tags": []
          },
          "execution_count": 14
        }
      ]
    },
    {
      "cell_type": "markdown",
      "metadata": {
        "id": "9dvk6-9_Tg16"
      },
      "source": [
        "### 5º Juntando as colunas de frequência e percentuais e ordenando as linhas de acordo com os labels das classes"
      ]
    },
    {
      "cell_type": "code",
      "metadata": {
        "colab": {
          "base_uri": "https://localhost:8080/",
          "height": 195
        },
        "id": "tO_bcMmgTg16",
        "outputId": "688d9f0f-100b-49cd-8903-4ef5c5a3e760"
      },
      "source": [
        "tabela = pd.DataFrame(data = {'frequencia': frequencia,\n",
        "                              'percentual': percentual})\n",
        "tabela.rename_axis('classes', axis = 1, inplace= True)\n",
        "tabela.sort_index(ascending = False, inplace = True)\n",
        "tabela"
      ],
      "execution_count": 16,
      "outputs": [
        {
          "output_type": "execute_result",
          "data": {
            "text/html": [
              "<div>\n",
              "<style scoped>\n",
              "    .dataframe tbody tr th:only-of-type {\n",
              "        vertical-align: middle;\n",
              "    }\n",
              "\n",
              "    .dataframe tbody tr th {\n",
              "        vertical-align: top;\n",
              "    }\n",
              "\n",
              "    .dataframe thead th {\n",
              "        text-align: right;\n",
              "    }\n",
              "</style>\n",
              "<table border=\"1\" class=\"dataframe\">\n",
              "  <thead>\n",
              "    <tr style=\"text-align: right;\">\n",
              "      <th>classes</th>\n",
              "      <th>frequencia</th>\n",
              "      <th>percentual</th>\n",
              "    </tr>\n",
              "  </thead>\n",
              "  <tbody>\n",
              "    <tr>\n",
              "      <th>A</th>\n",
              "      <td>420</td>\n",
              "      <td>1.0</td>\n",
              "    </tr>\n",
              "    <tr>\n",
              "      <th>B</th>\n",
              "      <td>822</td>\n",
              "      <td>1.0</td>\n",
              "    </tr>\n",
              "    <tr>\n",
              "      <th>C</th>\n",
              "      <td>7241</td>\n",
              "      <td>9.0</td>\n",
              "    </tr>\n",
              "    <tr>\n",
              "      <th>D</th>\n",
              "      <td>18602</td>\n",
              "      <td>24.0</td>\n",
              "    </tr>\n",
              "    <tr>\n",
              "      <th>E</th>\n",
              "      <td>49755</td>\n",
              "      <td>65.0</td>\n",
              "    </tr>\n",
              "  </tbody>\n",
              "</table>\n",
              "</div>"
            ],
            "text/plain": [
              "classes  frequencia  percentual\n",
              "A               420         1.0\n",
              "B               822         1.0\n",
              "C              7241         9.0\n",
              "D             18602        24.0\n",
              "E             49755        65.0"
            ]
          },
          "metadata": {
            "tags": []
          },
          "execution_count": 16
        }
      ]
    },
    {
      "cell_type": "markdown",
      "metadata": {
        "id": "DOYtXuSbTg18"
      },
      "source": [
        "### Construindo um gráfico de barras para visualizar as informações da tabela de frequências acima"
      ]
    },
    {
      "cell_type": "code",
      "metadata": {
        "colab": {
          "base_uri": "https://localhost:8080/",
          "height": 329
        },
        "id": "e4mDPKf1Tg18",
        "outputId": "2393f3d9-6de3-4693-ff84-1ba692384695"
      },
      "source": [
        "grafico1 = sns.barplot(data = tabela, \n",
        "                       x = tabela.index, y = 'frequencia', palette = 'mako')\n",
        "grafico1.figure.set_size_inches(14,6)\n",
        "grafico1.set_xlabel('Classes', fontsize = 14)\n",
        "grafico1.set_ylabel('Frequência', fontsize = 14)\n",
        "grafico1.set_title('distribuição das classes', fontsize = 20);"
      ],
      "execution_count": 17,
      "outputs": [
        {
          "output_type": "display_data",
          "data": {
            "image/png": "[encoded data removed]",
            "text/plain": [
              "<Figure size 1008x432 with 1 Axes>"
            ]
          },
          "metadata": {
            "tags": [],
            "needs_background": "light"
          }
        }
      ]
    },
    {
      "cell_type": "code",
      "metadata": {
        "colab": {
          "base_uri": "https://localhost:8080/",
          "height": 336
        },
        "id": "ahVwnLL7K2Hg",
        "outputId": "8758f880-0627-42ca-ee9d-980122d879b6"
      },
      "source": [
        "grafico2 = sns.barplot(data = tabela, \n",
        "                       x = tabela.index, y = 'percentual', palette = 'mako')\n",
        "grafico2.figure.set_size_inches(14,6)\n",
        "grafico2.set_xlabel('Classes', fontsize = 14)\n",
        "grafico2.set_ylabel('Frequência (%)', fontsize = 14)\n",
        "grafico2.set_title('distribuição das classes (percentual)', fontsize = 20);"
      ],
      "execution_count": 18,
      "outputs": [
        {
          "output_type": "display_data",
          "data": {
            "image/png": "[encoded data removed]",
            "text/plain": [
              "<Figure size 1008x432 with 1 Axes>"
            ]
          },
          "metadata": {
            "tags": [],
            "needs_background": "light"
          }
        }
      ]
    },
    {
      "cell_type": "markdown",
      "metadata": {
        "id": "9ppt5JevTg1-"
      },
      "source": [
        "> ### Conclusões\n",
        "\n",
        "Com a análise da renda vemos que a desigualdade no país é enorme onde a maior parte da pessoas estão na classe E e uma pequena minoria na classe A e B"
      ]
    },
    {
      "cell_type": "markdown",
      "metadata": {
        "id": "yt-gFm93Tg1-"
      },
      "source": [
        "### Criando um histograma para as variáveis QUANTITATIVAS de nosso dataset\n"
      ]
    },
    {
      "cell_type": "code",
      "metadata": {
        "id": "DYjq9xasTg1_",
        "colab": {
          "base_uri": "https://localhost:8080/",
          "height": 390
        },
        "outputId": "0ebbe238-19be-4f05-b576-6227102a7479"
      },
      "source": [
        "gráfico3 = sns.distplot(dados.Altura, color = 'g')\n",
        "gráfico3.figure.set_size_inches(14, 6)\n",
        "gráfico3.set_xlabel('Altura (m)', fontsize = 14 )\n",
        "gráfico3.set_title('Histograma Altura');"
      ],
      "execution_count": 19,
      "outputs": [
        {
          "output_type": "stream",
          "text": [
            "/usr/local/lib/python3.7/dist-packages/seaborn/distributions.py:2557: FutureWarning: `distplot` is a deprecated function and will be removed in a future version. Please adapt your code to use either `displot` (a figure-level function with similar flexibility) or `histplot` (an axes-level function for histograms).\n",
            "  warnings.warn(msg, FutureWarning)\n"
          ],
          "name": "stderr"
        },
        {
          "output_type": "display_data",
          "data": {
            "image/png": "[encoded data removed]",
            "text/plain": [
              "<Figure size 1008x432 with 1 Axes>"
            ]
          },
          "metadata": {
            "tags": [],
            "needs_background": "light"
          }
        }
      ]
    },
    {
      "cell_type": "code",
      "metadata": {
        "id": "uh2CWIG8Tg2A",
        "colab": {
          "base_uri": "https://localhost:8080/",
          "height": 379
        },
        "outputId": "77a0c685-2149-4a38-ff3e-e7e63b2e2da7"
      },
      "source": [
        "gráfico4 = sns.distplot(dados.Renda, kde = True, color = 'g')\n",
        "gráfico4.figure.set_size_inches(14, 6)\n",
        "gráfico4.set_xlabel('Renda', fontsize = 14 )\n",
        "gráfico4.set_title('Histograma Renda', fontsize =14);"
      ],
      "execution_count": 20,
      "outputs": [
        {
          "output_type": "stream",
          "text": [
            "/usr/local/lib/python3.7/dist-packages/seaborn/distributions.py:2557: FutureWarning: `distplot` is a deprecated function and will be removed in a future version. Please adapt your code to use either `displot` (a figure-level function with similar flexibility) or `histplot` (an axes-level function for histograms).\n",
            "  warnings.warn(msg, FutureWarning)\n"
          ],
          "name": "stderr"
        },
        {
          "output_type": "display_data",
          "data": {
            "image/png": "[encoded data removed]",
            "text/plain": [
              "<Figure size 1008x432 with 1 Axes>"
            ]
          },
          "metadata": {
            "tags": [],
            "needs_background": "light"
          }
        }
      ]
    },
    {
      "cell_type": "code",
      "metadata": {
        "id": "s55WPk1aTg2C",
        "colab": {
          "base_uri": "https://localhost:8080/",
          "height": 382
        },
        "outputId": "443bfebe-f692-40c3-ad3b-77b6a00e8613"
      },
      "source": [
        "gráfico5 = sns.distplot(dados.Idade, color = 'green')\n",
        "gráfico5.figure.set_size_inches(14, 6)\n",
        "gráfico5.set_xlabel('Idade', fontsize = 14 )\n",
        "gráfico5.set_title('Histograma Idade', fontsize = 14);"
      ],
      "execution_count": 21,
      "outputs": [
        {
          "output_type": "stream",
          "text": [
            "/usr/local/lib/python3.7/dist-packages/seaborn/distributions.py:2557: FutureWarning: `distplot` is a deprecated function and will be removed in a future version. Please adapt your code to use either `displot` (a figure-level function with similar flexibility) or `histplot` (an axes-level function for histograms).\n",
            "  warnings.warn(msg, FutureWarning)\n"
          ],
          "name": "stderr"
        },
        {
          "output_type": "display_data",
          "data": {
            "image/png": "[encoded data removed]",
            "text/plain": [
              "<Figure size 1008x432 with 1 Axes>"
            ]
          },
          "metadata": {
            "tags": [],
            "needs_background": "light"
          }
        }
      ]
    },
    {
      "cell_type": "markdown",
      "metadata": {
        "id": "w45i-qJ1Tg2E"
      },
      "source": [
        "> ### Conclusões\n",
        "\n",
        "O primeiro histograma da altura apresenta uma dsitribuição simétrica, porém as distribuições de renda e idade apresentam uma distribuição assimétrica à direita.\n",
        "\n",
        "A variável Altura apresenta perfeitamente uma distribuição simétrica pois foi de elaborção própria, já a variável renda apresenta uma distribuição assimétrica à direita devido a maioria das pessoas receberem um salário mínimo ou um pouco acima disso e uma pequena parcela da população receber uma remuneração bem alta. Com isso, a distribuição fica uma pouco ruim de ser visualizada devido a essa pequena parcela da população que puxa bastante a distribuição para a direita. \n",
        "\n",
        "Além disso, a variável Idade apresenta uma distribuição simétrica à direita, pois a alguns dos chefes de família da pesquisa apresentam idade bem elevada"
      ]
    },
    {
      "cell_type": "markdown",
      "metadata": {
        "id": "pnAH1T5fTg2F"
      },
      "source": [
        "### Construindo um histograma somente com as informações das pessoas com rendimento até R$ 20.000,00 para obtermos uma melhor visualização"
      ]
    },
    {
      "cell_type": "code",
      "metadata": {
        "id": "C7zHF1vPTg2G",
        "colab": {
          "base_uri": "https://localhost:8080/",
          "height": 380
        },
        "outputId": "50d88cf6-8ceb-403e-e593-22c044c25f2d"
      },
      "source": [
        "#construindo um histograma para variável renda,com apenas pessoas que recebem até 20.000 reais\n",
        "renda_20000 = dados.Renda[dados.Renda < 20000]\n",
        "gráfico6 = sns.distplot(renda_20000, color = 'g')\n",
        "gráfico6.figure.set_size_inches(14,6)\n",
        "gráfico6.set_title('Histograma da renda - pessoas que recebem até R$20.000,00', fontsize =14)\n",
        "gráfico6.set_xlabel('renda', fontsize = 14);"
      ],
      "execution_count": 22,
      "outputs": [
        {
          "output_type": "stream",
          "text": [
            "/usr/local/lib/python3.7/dist-packages/seaborn/distributions.py:2557: FutureWarning: `distplot` is a deprecated function and will be removed in a future version. Please adapt your code to use either `displot` (a figure-level function with similar flexibility) or `histplot` (an axes-level function for histograms).\n",
            "  warnings.warn(msg, FutureWarning)\n"
          ],
          "name": "stderr"
        },
        {
          "output_type": "display_data",
          "data": {
            "image/png": "[encoded data removed]",
            "text/plain": [
              "<Figure size 1008x432 with 1 Axes>"
            ]
          },
          "metadata": {
            "tags": [],
            "needs_background": "light"
          }
        }
      ]
    },
    {
      "cell_type": "markdown",
      "metadata": {
        "id": "vvtzLOUKTg2H"
      },
      "source": [
        "### Construindo uma tabela de frequências e uma com os valores percentuais dessas frequências a partir do cruzamento das variáveis SEXO e COR\n"
      ]
    },
    {
      "cell_type": "code",
      "metadata": {
        "id": "sChJRo_qTg2I"
      },
      "source": [
        "#definindo os dicionários que serão utilizados nos próximos passos\n",
        "sexo = {\n",
        "    0: 'Masculino', \n",
        "    1: 'Feminino'\n",
        "}\n",
        "cor = {\n",
        "    0: 'Indígena', \n",
        "    2: 'Branca', \n",
        "    4: 'Preta', \n",
        "    6: 'Amarela', \n",
        "    8: 'Parda', \n",
        "    9: 'Sem declaração'\n",
        "}\n",
        "anos_de_estudo = {\n",
        "    1: 'Sem instrução e menos de 1 ano', \n",
        "    2: '1 ano', \n",
        "    3: '2 anos', \n",
        "    4: '3 anos', \n",
        "    5: '4 anos', \n",
        "    6: '5 anos', \n",
        "    7: '6 anos', \n",
        "    8: '7 anos', \n",
        "    9: '8 anos', \n",
        "    10: '9 anos', \n",
        "    11: '10 anos', \n",
        "    12: '11 anos', \n",
        "    13: '12 anos', \n",
        "    14: '13 anos', \n",
        "    15: '14 anos', \n",
        "    16: '15 anos ou mais', \n",
        "    17: 'Não determinados'\n",
        "}\n",
        "uf = {\n",
        "    11: 'Rondônia', \n",
        "    12: 'Acre', \n",
        "    13: 'Amazonas', \n",
        "    14: 'Roraima', \n",
        "    15: 'Pará', \n",
        "    16: 'Amapá', \n",
        "    17: 'Tocantins', \n",
        "    21: 'Maranhão', \n",
        "    22: 'Piauí', \n",
        "    23: 'Ceará', \n",
        "    24: 'Rio Grande do Norte', \n",
        "    25: 'Paraíba', \n",
        "    26: 'Pernambuco', \n",
        "    27: 'Alagoas', \n",
        "    28: 'Sergipe', \n",
        "    29: 'Bahia', \n",
        "    31: 'Minas Gerais', \n",
        "    32: 'Espírito Santo', \n",
        "    33: 'Rio de Janeiro', \n",
        "    35: 'São Paulo', \n",
        "    41: 'Paraná', \n",
        "    42: 'Santa Catarina', \n",
        "    43: 'Rio Grande do Sul', \n",
        "    50: 'Mato Grosso do Sul', \n",
        "    51: 'Mato Grosso', \n",
        "    52: 'Goiás', \n",
        "    53: 'Distrito Federal'\n",
        "}"
      ],
      "execution_count": 24,
      "outputs": []
    },
    {
      "cell_type": "code",
      "metadata": {
        "id": "csL1jaeSTg2M",
        "colab": {
          "base_uri": "https://localhost:8080/",
          "height": 225
        },
        "outputId": "56eaaa73-e979-45ce-e70a-095389c3d90e"
      },
      "source": [
        "tabela_s_c = pd.crosstab(dados.Cor, dados.Sexo)\n",
        "tabela_s_c.rename(index = cor, columns= sexo, inplace = True)\n",
        "tabela_s_c"
      ],
      "execution_count": 26,
      "outputs": [
        {
          "output_type": "execute_result",
          "data": {
            "text/html": [
              "<div>\n",
              "<style scoped>\n",
              "    .dataframe tbody tr th:only-of-type {\n",
              "        vertical-align: middle;\n",
              "    }\n",
              "\n",
              "    .dataframe tbody tr th {\n",
              "        vertical-align: top;\n",
              "    }\n",
              "\n",
              "    .dataframe thead th {\n",
              "        text-align: right;\n",
              "    }\n",
              "</style>\n",
              "<table border=\"1\" class=\"dataframe\">\n",
              "  <thead>\n",
              "    <tr style=\"text-align: right;\">\n",
              "      <th>Sexo</th>\n",
              "      <th>Masculino</th>\n",
              "      <th>Feminino</th>\n",
              "    </tr>\n",
              "    <tr>\n",
              "      <th>Cor</th>\n",
              "      <th></th>\n",
              "      <th></th>\n",
              "    </tr>\n",
              "  </thead>\n",
              "  <tbody>\n",
              "    <tr>\n",
              "      <th>Indígena</th>\n",
              "      <td>256</td>\n",
              "      <td>101</td>\n",
              "    </tr>\n",
              "    <tr>\n",
              "      <th>Branca</th>\n",
              "      <td>22194</td>\n",
              "      <td>9621</td>\n",
              "    </tr>\n",
              "    <tr>\n",
              "      <th>Preta</th>\n",
              "      <td>5502</td>\n",
              "      <td>2889</td>\n",
              "    </tr>\n",
              "    <tr>\n",
              "      <th>Amarela</th>\n",
              "      <td>235</td>\n",
              "      <td>117</td>\n",
              "    </tr>\n",
              "    <tr>\n",
              "      <th>Parda</th>\n",
              "      <td>25063</td>\n",
              "      <td>10862</td>\n",
              "    </tr>\n",
              "  </tbody>\n",
              "</table>\n",
              "</div>"
            ],
            "text/plain": [
              "Sexo      Masculino  Feminino\n",
              "Cor                          \n",
              "Indígena        256       101\n",
              "Branca        22194      9621\n",
              "Preta          5502      2889\n",
              "Amarela         235       117\n",
              "Parda         25063     10862"
            ]
          },
          "metadata": {
            "tags": []
          },
          "execution_count": 26
        }
      ]
    },
    {
      "cell_type": "code",
      "metadata": {
        "colab": {
          "base_uri": "https://localhost:8080/",
          "height": 225
        },
        "id": "q6Vr8mITduxr",
        "outputId": "a001e391-f682-4081-e944-59ed0b070fca"
      },
      "source": [
        "tabela_s_c_percent = pd.crosstab(dados.Cor, dados.Sexo, normalize = True).round(4)*100\n",
        "tabela_s_c_percent.rename(index = cor, columns = sexo, inplace = True)\n",
        "tabela_s_c_percent"
      ],
      "execution_count": 27,
      "outputs": [
        {
          "output_type": "execute_result",
          "data": {
            "text/html": [
              "<div>\n",
              "<style scoped>\n",
              "    .dataframe tbody tr th:only-of-type {\n",
              "        vertical-align: middle;\n",
              "    }\n",
              "\n",
              "    .dataframe tbody tr th {\n",
              "        vertical-align: top;\n",
              "    }\n",
              "\n",
              "    .dataframe thead th {\n",
              "        text-align: right;\n",
              "    }\n",
              "</style>\n",
              "<table border=\"1\" class=\"dataframe\">\n",
              "  <thead>\n",
              "    <tr style=\"text-align: right;\">\n",
              "      <th>Sexo</th>\n",
              "      <th>Masculino</th>\n",
              "      <th>Feminino</th>\n",
              "    </tr>\n",
              "    <tr>\n",
              "      <th>Cor</th>\n",
              "      <th></th>\n",
              "      <th></th>\n",
              "    </tr>\n",
              "  </thead>\n",
              "  <tbody>\n",
              "    <tr>\n",
              "      <th>Indígena</th>\n",
              "      <td>0.33</td>\n",
              "      <td>0.13</td>\n",
              "    </tr>\n",
              "    <tr>\n",
              "      <th>Branca</th>\n",
              "      <td>28.88</td>\n",
              "      <td>12.52</td>\n",
              "    </tr>\n",
              "    <tr>\n",
              "      <th>Preta</th>\n",
              "      <td>7.16</td>\n",
              "      <td>3.76</td>\n",
              "    </tr>\n",
              "    <tr>\n",
              "      <th>Amarela</th>\n",
              "      <td>0.31</td>\n",
              "      <td>0.15</td>\n",
              "    </tr>\n",
              "    <tr>\n",
              "      <th>Parda</th>\n",
              "      <td>32.62</td>\n",
              "      <td>14.14</td>\n",
              "    </tr>\n",
              "  </tbody>\n",
              "</table>\n",
              "</div>"
            ],
            "text/plain": [
              "Sexo      Masculino  Feminino\n",
              "Cor                          \n",
              "Indígena       0.33      0.13\n",
              "Branca        28.88     12.52\n",
              "Preta          7.16      3.76\n",
              "Amarela        0.31      0.15\n",
              "Parda         32.62     14.14"
            ]
          },
          "metadata": {
            "tags": []
          },
          "execution_count": 27
        }
      ]
    },
    {
      "cell_type": "markdown",
      "metadata": {
        "id": "2jLZmww2Tg2O"
      },
      "source": [
        "> ### Conclusões\n",
        "\n",
        "Como Foram considerados somente os registros das Pessoas de Referência de cada domicílio (responsável pelo domicílio).\n",
        "Vemos que os homens pardos representam a maioria e as mulheres indígenas a minoria. \n",
        "\n",
        "Observando as tabelas acima, é visível que segundo os dados da pesquisa os homens são em maioria as pessoas de referência do que as mulheres.\n",
        "\n",
        "Dentre os Homens os pardos e Brancos representam a maioria, e entre as mulhures também são as pardas e brancas que representam a maioria."
      ]
    },
    {
      "cell_type": "markdown",
      "metadata": {
        "id": "Aoeayf6zTg2P"
      },
      "source": [
        "## Realizando, para a variável RENDA, uma análise descritiva com as ferramentas que aprendi no treinamento"
      ]
    },
    {
      "cell_type": "markdown",
      "metadata": {
        "id": "c2CtT71oTg2P"
      },
      "source": [
        "### A média aritimética"
      ]
    },
    {
      "cell_type": "code",
      "metadata": {
        "id": "qlJESCU6Tg2P",
        "colab": {
          "base_uri": "https://localhost:8080/"
        },
        "outputId": "922fedc3-e21d-4358-df4e-e21e6f4bea5c"
      },
      "source": [
        "print(f'Média: {round(dados.Renda.mean(),2)}')"
      ],
      "execution_count": 28,
      "outputs": [
        {
          "output_type": "stream",
          "text": [
            "Média: 2000.38\n"
          ],
          "name": "stdout"
        }
      ]
    },
    {
      "cell_type": "markdown",
      "metadata": {
        "id": "Xd4saPBCTg2R"
      },
      "source": [
        "### A mediana"
      ]
    },
    {
      "cell_type": "code",
      "metadata": {
        "id": "vHTqX-UATg2R",
        "colab": {
          "base_uri": "https://localhost:8080/"
        },
        "outputId": "33578135-930f-47c9-f5f4-ba1af5accfbf"
      },
      "source": [
        "print(f'Mediana: {round(dados.Renda.median(),2)}')"
      ],
      "execution_count": 29,
      "outputs": [
        {
          "output_type": "stream",
          "text": [
            "Mediana: 1200.0\n"
          ],
          "name": "stdout"
        }
      ]
    },
    {
      "cell_type": "markdown",
      "metadata": {
        "id": "_e40rDSwTg2U"
      },
      "source": [
        "### A moda"
      ]
    },
    {
      "cell_type": "code",
      "metadata": {
        "id": "BFOOdYOvTg2V",
        "colab": {
          "base_uri": "https://localhost:8080/"
        },
        "outputId": "b7c2b6d8-677b-4593-8c11-c06d76604cd0"
      },
      "source": [
        "print(f'Moda: {round(dados.Renda.mode()[0],2)}')"
      ],
      "execution_count": null,
      "outputs": [
        {
          "output_type": "stream",
          "text": [
            "Moda: 788\n"
          ],
          "name": "stdout"
        }
      ]
    },
    {
      "cell_type": "markdown",
      "metadata": {
        "id": "Rnr1gOCMTg2X"
      },
      "source": [
        "### O desvio médio absoluto"
      ]
    },
    {
      "cell_type": "code",
      "metadata": {
        "id": "TmE_1QDGTg2Y",
        "colab": {
          "base_uri": "https://localhost:8080/"
        },
        "outputId": "c40e3050-bb51-4277-ef19-81cd522b3d46"
      },
      "source": [
        "print(f'Desvio médio absoluto: {round(dados.Renda.mad(),2)}')"
      ],
      "execution_count": null,
      "outputs": [
        {
          "output_type": "stream",
          "text": [
            "Desvio médio absoluto: 1526.5\n"
          ],
          "name": "stdout"
        }
      ]
    },
    {
      "cell_type": "markdown",
      "metadata": {
        "id": "hCgV_XaQTg2Z"
      },
      "source": [
        "### A variância amostral"
      ]
    },
    {
      "cell_type": "code",
      "metadata": {
        "id": "SwRgACeGTg2a",
        "colab": {
          "base_uri": "https://localhost:8080/"
        },
        "outputId": "706da175-4557-4bff-8e79-5d09a295b622"
      },
      "source": [
        "print(f'Variância amostral: {round(dados.Renda.var(),2)}')"
      ],
      "execution_count": null,
      "outputs": [
        {
          "output_type": "stream",
          "text": [
            "Variância amostral: 11044906.01\n"
          ],
          "name": "stdout"
        }
      ]
    },
    {
      "cell_type": "markdown",
      "metadata": {
        "id": "gsO6MKOcTg2c"
      },
      "source": [
        "### O desvio-padrão amostral"
      ]
    },
    {
      "cell_type": "code",
      "metadata": {
        "id": "gR-LVTRYTg2d",
        "colab": {
          "base_uri": "https://localhost:8080/"
        },
        "outputId": "dfd8d4cc-c773-460c-eb72-b6925d8e7e83"
      },
      "source": [
        "print(f'Desvio padrão amostral: {round(dados.Renda.mean(),2)}')"
      ],
      "execution_count": null,
      "outputs": [
        {
          "output_type": "stream",
          "text": [
            "Desvio padrão amostral: 2000.38\n"
          ],
          "name": "stdout"
        }
      ]
    },
    {
      "cell_type": "markdown",
      "metadata": {
        "id": "vG-rdO5fTg2f"
      },
      "source": [
        "### Observando a média, mediana e valor máximo da variável RENDA segundo SEXO e COR"
      ]
    },
    {
      "cell_type": "code",
      "metadata": {
        "id": "VgxygKWXTg2g",
        "colab": {
          "base_uri": "https://localhost:8080/",
          "height": 254
        },
        "outputId": "0bea22c6-14e6-4b35-d3e6-aef541a725e5"
      },
      "source": [
        "func = {'mean', 'median', 'max'}\n",
        "renda_sexo_cor = pd.crosstab(index = dados.Cor, \n",
        "                         columns = dados.Sexo,\n",
        "                         values = dados.Renda,\n",
        "                         aggfunc = func).round(2)\n",
        "renda_sexo_cor.rename(index = cor, columns = sexo, inplace = True)\n",
        "renda_sexo_cor"
      ],
      "execution_count": 30,
      "outputs": [
        {
          "output_type": "execute_result",
          "data": {
            "text/html": [
              "<div>\n",
              "<style scoped>\n",
              "    .dataframe tbody tr th:only-of-type {\n",
              "        vertical-align: middle;\n",
              "    }\n",
              "\n",
              "    .dataframe tbody tr th {\n",
              "        vertical-align: top;\n",
              "    }\n",
              "\n",
              "    .dataframe thead tr th {\n",
              "        text-align: left;\n",
              "    }\n",
              "\n",
              "    .dataframe thead tr:last-of-type th {\n",
              "        text-align: right;\n",
              "    }\n",
              "</style>\n",
              "<table border=\"1\" class=\"dataframe\">\n",
              "  <thead>\n",
              "    <tr>\n",
              "      <th></th>\n",
              "      <th colspan=\"2\" halign=\"left\">max</th>\n",
              "      <th colspan=\"2\" halign=\"left\">mean</th>\n",
              "      <th colspan=\"2\" halign=\"left\">median</th>\n",
              "    </tr>\n",
              "    <tr>\n",
              "      <th>Sexo</th>\n",
              "      <th>Masculino</th>\n",
              "      <th>Feminino</th>\n",
              "      <th>Masculino</th>\n",
              "      <th>Feminino</th>\n",
              "      <th>Masculino</th>\n",
              "      <th>Feminino</th>\n",
              "    </tr>\n",
              "    <tr>\n",
              "      <th>Cor</th>\n",
              "      <th></th>\n",
              "      <th></th>\n",
              "      <th></th>\n",
              "      <th></th>\n",
              "      <th></th>\n",
              "      <th></th>\n",
              "    </tr>\n",
              "  </thead>\n",
              "  <tbody>\n",
              "    <tr>\n",
              "      <th>Indígena</th>\n",
              "      <td>10000.0</td>\n",
              "      <td>120000.0</td>\n",
              "      <td>1081.71</td>\n",
              "      <td>2464.39</td>\n",
              "      <td>797.5</td>\n",
              "      <td>788.0</td>\n",
              "    </tr>\n",
              "    <tr>\n",
              "      <th>Branca</th>\n",
              "      <td>200000.0</td>\n",
              "      <td>100000.0</td>\n",
              "      <td>2925.74</td>\n",
              "      <td>2109.87</td>\n",
              "      <td>1700.0</td>\n",
              "      <td>1200.0</td>\n",
              "    </tr>\n",
              "    <tr>\n",
              "      <th>Preta</th>\n",
              "      <td>50000.0</td>\n",
              "      <td>23000.0</td>\n",
              "      <td>1603.86</td>\n",
              "      <td>1134.60</td>\n",
              "      <td>1200.0</td>\n",
              "      <td>800.0</td>\n",
              "    </tr>\n",
              "    <tr>\n",
              "      <th>Amarela</th>\n",
              "      <td>50000.0</td>\n",
              "      <td>20000.0</td>\n",
              "      <td>4758.25</td>\n",
              "      <td>3027.34</td>\n",
              "      <td>2800.0</td>\n",
              "      <td>1500.0</td>\n",
              "    </tr>\n",
              "    <tr>\n",
              "      <th>Parda</th>\n",
              "      <td>100000.0</td>\n",
              "      <td>30000.0</td>\n",
              "      <td>1659.58</td>\n",
              "      <td>1176.76</td>\n",
              "      <td>1200.0</td>\n",
              "      <td>800.0</td>\n",
              "    </tr>\n",
              "  </tbody>\n",
              "</table>\n",
              "</div>"
            ],
            "text/plain": [
              "               max                mean             median         \n",
              "Sexo     Masculino  Feminino Masculino Feminino Masculino Feminino\n",
              "Cor                                                               \n",
              "Indígena   10000.0  120000.0   1081.71  2464.39     797.5    788.0\n",
              "Branca    200000.0  100000.0   2925.74  2109.87    1700.0   1200.0\n",
              "Preta      50000.0   23000.0   1603.86  1134.60    1200.0    800.0\n",
              "Amarela    50000.0   20000.0   4758.25  3027.34    2800.0   1500.0\n",
              "Parda     100000.0   30000.0   1659.58  1176.76    1200.0    800.0"
            ]
          },
          "metadata": {
            "tags": []
          },
          "execution_count": 30
        }
      ]
    },
    {
      "cell_type": "markdown",
      "metadata": {
        "id": "ibndm9iwTg2i"
      },
      "source": [
        "> ### Conclusões\n",
        "\n",
        "A partir da tabela acima fica claro que na pesquisa os homens e mulheres da cor amarela e branca são os que apresentam uma renda maior em relação aos demais e os indígenas são os que apresentam pior renda entre os demais.\n",
        "Mesmo que os indígenas do sexo feminino apresentem uma renda média maior que as dos negros e pardos por exemplo, isto pode estar ocorendo devido a um dado esta muito disperso dos demais o que acaba prejudicando a média."
      ]
    },
    {
      "cell_type": "markdown",
      "metadata": {
        "id": "CleJ6c1rTg2i"
      },
      "source": [
        "### Observando as medidas de dispersão da variável RENDA segundo SEXO e COR"
      ]
    },
    {
      "cell_type": "code",
      "metadata": {
        "id": "bNv-eWZ3Tg2j",
        "colab": {
          "base_uri": "https://localhost:8080/",
          "height": 254
        },
        "outputId": "7ee1e1fd-1c0f-434b-9121-aa2652ebce6c"
      },
      "source": [
        "func2 = {'mad', 'var', 'std'}\n",
        "renda_sexo_cor2 = pd.crosstab(index = dados.Cor, \n",
        "                         columns = dados.Sexo,\n",
        "                         values = dados.Renda,\n",
        "                         aggfunc = func2).round(2)\n",
        "renda_sexo_cor2.rename(index = cor, columns = sexo, inplace = True)\n",
        "renda_sexo_cor2"
      ],
      "execution_count": 31,
      "outputs": [
        {
          "output_type": "execute_result",
          "data": {
            "text/html": [
              "<div>\n",
              "<style scoped>\n",
              "    .dataframe tbody tr th:only-of-type {\n",
              "        vertical-align: middle;\n",
              "    }\n",
              "\n",
              "    .dataframe tbody tr th {\n",
              "        vertical-align: top;\n",
              "    }\n",
              "\n",
              "    .dataframe thead tr th {\n",
              "        text-align: left;\n",
              "    }\n",
              "\n",
              "    .dataframe thead tr:last-of-type th {\n",
              "        text-align: right;\n",
              "    }\n",
              "</style>\n",
              "<table border=\"1\" class=\"dataframe\">\n",
              "  <thead>\n",
              "    <tr>\n",
              "      <th></th>\n",
              "      <th colspan=\"2\" halign=\"left\">mad</th>\n",
              "      <th colspan=\"2\" halign=\"left\">std</th>\n",
              "      <th colspan=\"2\" halign=\"left\">var</th>\n",
              "    </tr>\n",
              "    <tr>\n",
              "      <th>Sexo</th>\n",
              "      <th>Masculino</th>\n",
              "      <th>Feminino</th>\n",
              "      <th>Masculino</th>\n",
              "      <th>Feminino</th>\n",
              "      <th>Masculino</th>\n",
              "      <th>Feminino</th>\n",
              "    </tr>\n",
              "    <tr>\n",
              "      <th>Cor</th>\n",
              "      <th></th>\n",
              "      <th></th>\n",
              "      <th></th>\n",
              "      <th></th>\n",
              "      <th></th>\n",
              "      <th></th>\n",
              "    </tr>\n",
              "  </thead>\n",
              "  <tbody>\n",
              "    <tr>\n",
              "      <th>Indígena</th>\n",
              "      <td>798.91</td>\n",
              "      <td>3007.89</td>\n",
              "      <td>1204.09</td>\n",
              "      <td>11957.50</td>\n",
              "      <td>1449841.13</td>\n",
              "      <td>1.429818e+08</td>\n",
              "    </tr>\n",
              "    <tr>\n",
              "      <th>Branca</th>\n",
              "      <td>2261.01</td>\n",
              "      <td>1670.97</td>\n",
              "      <td>4750.79</td>\n",
              "      <td>3251.01</td>\n",
              "      <td>22570023.41</td>\n",
              "      <td>1.056909e+07</td>\n",
              "    </tr>\n",
              "    <tr>\n",
              "      <th>Preta</th>\n",
              "      <td>975.60</td>\n",
              "      <td>705.45</td>\n",
              "      <td>1936.31</td>\n",
              "      <td>1349.80</td>\n",
              "      <td>3749293.59</td>\n",
              "      <td>1.821960e+06</td>\n",
              "    </tr>\n",
              "    <tr>\n",
              "      <th>Amarela</th>\n",
              "      <td>3709.60</td>\n",
              "      <td>2549.15</td>\n",
              "      <td>5740.82</td>\n",
              "      <td>3731.17</td>\n",
              "      <td>32957069.62</td>\n",
              "      <td>1.392166e+07</td>\n",
              "    </tr>\n",
              "    <tr>\n",
              "      <th>Parda</th>\n",
              "      <td>1125.83</td>\n",
              "      <td>811.58</td>\n",
              "      <td>2312.09</td>\n",
              "      <td>1596.23</td>\n",
              "      <td>5345747.15</td>\n",
              "      <td>2.547960e+06</td>\n",
              "    </tr>\n",
              "  </tbody>\n",
              "</table>\n",
              "</div>"
            ],
            "text/plain": [
              "               mad                std                    var              \n",
              "Sexo     Masculino Feminino Masculino  Feminino    Masculino      Feminino\n",
              "Cor                                                                       \n",
              "Indígena    798.91  3007.89   1204.09  11957.50   1449841.13  1.429818e+08\n",
              "Branca     2261.01  1670.97   4750.79   3251.01  22570023.41  1.056909e+07\n",
              "Preta       975.60   705.45   1936.31   1349.80   3749293.59  1.821960e+06\n",
              "Amarela    3709.60  2549.15   5740.82   3731.17  32957069.62  1.392166e+07\n",
              "Parda      1125.83   811.58   2312.09   1596.23   5345747.15  2.547960e+06"
            ]
          },
          "metadata": {
            "tags": []
          },
          "execution_count": 31
        }
      ]
    },
    {
      "cell_type": "markdown",
      "metadata": {
        "id": "57aHvJMSTg2l"
      },
      "source": [
        "> ### Conclusões\n",
        "\n",
        "Agora apresentando uma tabela de com as medidas de dispersão fica visível que os alguns dados estão muito dispersos na váriavel renda pois o elevado devio padrão nos mostra justamente isso. \n",
        "E como mencionado anteriormente na conclusão da tabela de medidas de tendência central, os indígenas do sexo feminino apresentam a maior dispersão entre os dados de renda."
      ]
    },
    {
      "cell_type": "markdown",
      "metadata": {
        "id": "QSYjkdyOTg2l"
      },
      "source": [
        "### Construindo um box plot da variável RENDA segundo SEXO e COR, com dados de renda até R$10.000,00"
      ]
    },
    {
      "cell_type": "code",
      "metadata": {
        "id": "8hGa4SMRTg2m",
        "colab": {
          "base_uri": "https://localhost:8080/",
          "height": 342
        },
        "outputId": "949ef2c2-4d42-4b68-ce39-516556b52c2f"
      },
      "source": [
        "#Na construção do boxplot, irei fazer apenas com os dados das pessoas que apresentam renda menor ou igual a R$10000,00\n",
        "dados_filtrado = dados[dados.Renda <= 10000]\n",
        "boxplot = sns.boxplot(data = dados_filtrado, x = 'Renda', y = 'Cor', orient = 'h', hue = 'Sexo', palette = 'mako')\n",
        "boxplot.figure.set_size_inches(14,6) #tamanho da figura\n",
        "boxplot.set_xlabel('Renda(R$)', fontsize = 16) \n",
        "boxplot.set_title('Boxplot - Renda por e sexo', fontsize = 20); #título do boxplot\n",
        "boxplot.set_ylabel('Cor', fontsize = 16)\n",
        "boxplot.set_yticklabels(labels = ['Indígena', 'Branca', 'Preta', 'Amarela', 'Parda', 'Sem declaração']) #labels eixo y\n",
        "handles, _ = boxplot.get_legend_handles_labels()\n",
        "boxplot.legend(handles, ['masculino', 'feminino'], fontsize = 12)"
      ],
      "execution_count": 114,
      "outputs": [
        {
          "output_type": "execute_result",
          "data": {
            "text/plain": [
              "<matplotlib.legend.Legend at 0x7f93e7345a90>"
            ]
          },
          "metadata": {
            "tags": []
          },
          "execution_count": 114
        },
        {
          "output_type": "display_data",
          "data": {
            "image/png": "[encoded data removed]",
            "text/plain": [
              "<Figure size 1008x432 with 1 Axes>"
            ]
          },
          "metadata": {
            "tags": [],
            "needs_background": "light"
          }
        }
      ]
    },
    {
      "cell_type": "markdown",
      "metadata": {
        "id": "ROiIQRFhTg2o"
      },
      "source": [
        "> ### Conclusões\n",
        "\n",
        "A partir da visualização acima é perceptível que os homens independentemente da cor apresentam uma renda maior que a das mulheres. \n",
        "Além disso é observado no boxplot que a cor branca e amarela apresentam uma renda maior que as demais."
      ]
    },
    {
      "cell_type": "markdown",
      "metadata": {
        "id": "zi4BaGooTg2o"
      },
      "source": [
        "### Qual percentual de pessoas de nosso <i>dataset</i> ganham um salário mínimo (R$ 788,00) ou menos?\n"
      ]
    },
    {
      "cell_type": "code",
      "metadata": {
        "id": "9DwXo2yITg2p",
        "colab": {
          "base_uri": "https://localhost:8080/"
        },
        "outputId": "08c6ee69-8b20-4fa8-958a-43bbc16c03e5"
      },
      "source": [
        "from scipy import stats\n",
        "pessoas_sm = dados[dados.Renda <= 788].shape[0]\n",
        "pessoas_total = dados.shape[0]\n",
        "percentual_pessoas_sm = pessoas_sm / pessoas_total\n",
        "percentual_pessoas_sm = round(percentual_pessoas_sm*100,2)\n",
        "print(f'O percentual de pessoas do nosso dataset que ganham até um salário minimo é de {percentual_pessoas_sm} %')"
      ],
      "execution_count": 142,
      "outputs": [
        {
          "output_type": "stream",
          "text": [
            "O percentual de pessoas do nosso dataset que ganham até um salário minimo é de 28.87 %\n"
          ],
          "name": "stdout"
        }
      ]
    },
    {
      "cell_type": "markdown",
      "metadata": {
        "id": "bl0fOMuKTg2q"
      },
      "source": [
        "### Qual o valor máximo ganho por 99% das pessoas de nosso <i>dataset</i>?"
      ]
    },
    {
      "cell_type": "code",
      "metadata": {
        "id": "cIVwy8bKTg2q",
        "colab": {
          "base_uri": "https://localhost:8080/"
        },
        "outputId": "25f3b540-a8d7-4cf5-c8aa-e1b17ec97a1e"
      },
      "source": [
        "print(f'O valor maximo de renda ganho por 99% das pessoas no dataset é R${dados.Renda.quantile(q = 0.99)}')"
      ],
      "execution_count": 81,
      "outputs": [
        {
          "output_type": "stream",
          "text": [
            "O valor maximo de renda ganho por 99% das pessoas no dataset é R$15000.0\n"
          ],
          "name": "stdout"
        }
      ]
    },
    {
      "cell_type": "markdown",
      "metadata": {
        "id": "zeRhvtngTg2r"
      },
      "source": [
        "### Observando a média, mediana, valor máximo e desvio-padrão da variável RENDA segundo ANOS DE ESTUDO e SEXO"
      ]
    },
    {
      "cell_type": "code",
      "metadata": {
        "id": "8nxGdQIpTg2s",
        "colab": {
          "base_uri": "https://localhost:8080/",
          "height": 730
        },
        "outputId": "b0de5b59-7949-4dd6-831d-3205840db907"
      },
      "source": [
        "funcs3 = {'mean','std', 'median', 'max'}\n",
        "tabela_2 = pd.crosstab(index = dados['Anos de Estudo'], columns = dados.Sexo, values = dados.Renda, aggfunc = funcs3)\n",
        "tabela_2.rename(index = anos_de_estudo, columns = sexo, inplace = True)\n",
        "tabela_2"
      ],
      "execution_count": 64,
      "outputs": [
        {
          "output_type": "execute_result",
          "data": {
            "text/html": [
              "<div>\n",
              "<style scoped>\n",
              "    .dataframe tbody tr th:only-of-type {\n",
              "        vertical-align: middle;\n",
              "    }\n",
              "\n",
              "    .dataframe tbody tr th {\n",
              "        vertical-align: top;\n",
              "    }\n",
              "\n",
              "    .dataframe thead tr th {\n",
              "        text-align: left;\n",
              "    }\n",
              "\n",
              "    .dataframe thead tr:last-of-type th {\n",
              "        text-align: right;\n",
              "    }\n",
              "</style>\n",
              "<table border=\"1\" class=\"dataframe\">\n",
              "  <thead>\n",
              "    <tr>\n",
              "      <th></th>\n",
              "      <th colspan=\"2\" halign=\"left\">max</th>\n",
              "      <th colspan=\"2\" halign=\"left\">mean</th>\n",
              "      <th colspan=\"2\" halign=\"left\">median</th>\n",
              "      <th colspan=\"2\" halign=\"left\">std</th>\n",
              "    </tr>\n",
              "    <tr>\n",
              "      <th>Sexo</th>\n",
              "      <th>Masculino</th>\n",
              "      <th>Feminino</th>\n",
              "      <th>Masculino</th>\n",
              "      <th>Feminino</th>\n",
              "      <th>Masculino</th>\n",
              "      <th>Feminino</th>\n",
              "      <th>Masculino</th>\n",
              "      <th>Feminino</th>\n",
              "    </tr>\n",
              "    <tr>\n",
              "      <th>Anos de Estudo</th>\n",
              "      <th></th>\n",
              "      <th></th>\n",
              "      <th></th>\n",
              "      <th></th>\n",
              "      <th></th>\n",
              "      <th></th>\n",
              "      <th></th>\n",
              "      <th></th>\n",
              "    </tr>\n",
              "  </thead>\n",
              "  <tbody>\n",
              "    <tr>\n",
              "      <th>Sem instrução e menos de 1 ano</th>\n",
              "      <td>30000.0</td>\n",
              "      <td>10000.0</td>\n",
              "      <td>799.494638</td>\n",
              "      <td>516.201748</td>\n",
              "      <td>700.0</td>\n",
              "      <td>390.0</td>\n",
              "      <td>1023.904884</td>\n",
              "      <td>639.311534</td>\n",
              "    </tr>\n",
              "    <tr>\n",
              "      <th>1 ano</th>\n",
              "      <td>30000.0</td>\n",
              "      <td>2000.0</td>\n",
              "      <td>895.629047</td>\n",
              "      <td>492.771987</td>\n",
              "      <td>788.0</td>\n",
              "      <td>400.0</td>\n",
              "      <td>1331.950552</td>\n",
              "      <td>425.291842</td>\n",
              "    </tr>\n",
              "    <tr>\n",
              "      <th>2 anos</th>\n",
              "      <td>40000.0</td>\n",
              "      <td>4000.0</td>\n",
              "      <td>931.178986</td>\n",
              "      <td>529.911638</td>\n",
              "      <td>788.0</td>\n",
              "      <td>450.0</td>\n",
              "      <td>1435.173827</td>\n",
              "      <td>498.234168</td>\n",
              "    </tr>\n",
              "    <tr>\n",
              "      <th>3 anos</th>\n",
              "      <td>80000.0</td>\n",
              "      <td>3500.0</td>\n",
              "      <td>1109.203862</td>\n",
              "      <td>546.853916</td>\n",
              "      <td>800.0</td>\n",
              "      <td>500.0</td>\n",
              "      <td>2143.800133</td>\n",
              "      <td>424.124446</td>\n",
              "    </tr>\n",
              "    <tr>\n",
              "      <th>4 anos</th>\n",
              "      <td>50000.0</td>\n",
              "      <td>10000.0</td>\n",
              "      <td>1302.329283</td>\n",
              "      <td>704.279111</td>\n",
              "      <td>1000.0</td>\n",
              "      <td>788.0</td>\n",
              "      <td>1419.821787</td>\n",
              "      <td>629.553397</td>\n",
              "    </tr>\n",
              "    <tr>\n",
              "      <th>5 anos</th>\n",
              "      <td>35000.0</td>\n",
              "      <td>8000.0</td>\n",
              "      <td>1338.653218</td>\n",
              "      <td>781.389776</td>\n",
              "      <td>1045.0</td>\n",
              "      <td>788.0</td>\n",
              "      <td>1484.650587</td>\n",
              "      <td>635.782641</td>\n",
              "    </tr>\n",
              "    <tr>\n",
              "      <th>6 anos</th>\n",
              "      <td>25000.0</td>\n",
              "      <td>6000.0</td>\n",
              "      <td>1448.875419</td>\n",
              "      <td>833.732824</td>\n",
              "      <td>1200.0</td>\n",
              "      <td>788.0</td>\n",
              "      <td>1476.628602</td>\n",
              "      <td>574.547028</td>\n",
              "    </tr>\n",
              "    <tr>\n",
              "      <th>7 anos</th>\n",
              "      <td>40000.0</td>\n",
              "      <td>9000.0</td>\n",
              "      <td>1465.497940</td>\n",
              "      <td>830.751004</td>\n",
              "      <td>1200.0</td>\n",
              "      <td>788.0</td>\n",
              "      <td>1419.708673</td>\n",
              "      <td>602.038029</td>\n",
              "    </tr>\n",
              "    <tr>\n",
              "      <th>8 anos</th>\n",
              "      <td>30000.0</td>\n",
              "      <td>18000.0</td>\n",
              "      <td>1639.396667</td>\n",
              "      <td>933.615351</td>\n",
              "      <td>1300.0</td>\n",
              "      <td>800.0</td>\n",
              "      <td>1515.583715</td>\n",
              "      <td>896.781213</td>\n",
              "    </tr>\n",
              "    <tr>\n",
              "      <th>9 anos</th>\n",
              "      <td>60000.0</td>\n",
              "      <td>20000.0</td>\n",
              "      <td>1508.038850</td>\n",
              "      <td>868.021700</td>\n",
              "      <td>1200.0</td>\n",
              "      <td>788.0</td>\n",
              "      <td>2137.664774</td>\n",
              "      <td>973.221652</td>\n",
              "    </tr>\n",
              "    <tr>\n",
              "      <th>10 anos</th>\n",
              "      <td>45000.0</td>\n",
              "      <td>6000.0</td>\n",
              "      <td>1731.270847</td>\n",
              "      <td>925.919225</td>\n",
              "      <td>1218.0</td>\n",
              "      <td>800.0</td>\n",
              "      <td>2078.609734</td>\n",
              "      <td>620.611907</td>\n",
              "    </tr>\n",
              "    <tr>\n",
              "      <th>11 anos</th>\n",
              "      <td>200000.0</td>\n",
              "      <td>100000.0</td>\n",
              "      <td>2117.060504</td>\n",
              "      <td>1286.790889</td>\n",
              "      <td>1500.0</td>\n",
              "      <td>1000.0</td>\n",
              "      <td>2676.538942</td>\n",
              "      <td>1819.040417</td>\n",
              "    </tr>\n",
              "    <tr>\n",
              "      <th>12 anos</th>\n",
              "      <td>30000.0</td>\n",
              "      <td>120000.0</td>\n",
              "      <td>2470.330776</td>\n",
              "      <td>1682.313725</td>\n",
              "      <td>1800.0</td>\n",
              "      <td>1200.0</td>\n",
              "      <td>2268.081538</td>\n",
              "      <td>4851.833513</td>\n",
              "    </tr>\n",
              "    <tr>\n",
              "      <th>13 anos</th>\n",
              "      <td>25000.0</td>\n",
              "      <td>20000.0</td>\n",
              "      <td>3195.099154</td>\n",
              "      <td>1911.730047</td>\n",
              "      <td>2400.0</td>\n",
              "      <td>1300.0</td>\n",
              "      <td>2797.116800</td>\n",
              "      <td>2053.789771</td>\n",
              "    </tr>\n",
              "    <tr>\n",
              "      <th>14 anos</th>\n",
              "      <td>50000.0</td>\n",
              "      <td>20000.0</td>\n",
              "      <td>3706.620269</td>\n",
              "      <td>2226.460457</td>\n",
              "      <td>2500.0</td>\n",
              "      <td>1600.0</td>\n",
              "      <td>3987.214974</td>\n",
              "      <td>2064.083336</td>\n",
              "    </tr>\n",
              "    <tr>\n",
              "      <th>15 anos ou mais</th>\n",
              "      <td>200000.0</td>\n",
              "      <td>100000.0</td>\n",
              "      <td>6134.279790</td>\n",
              "      <td>3899.513231</td>\n",
              "      <td>4000.0</td>\n",
              "      <td>2800.0</td>\n",
              "      <td>7447.613594</td>\n",
              "      <td>4212.770709</td>\n",
              "    </tr>\n",
              "    <tr>\n",
              "      <th>Não determinados</th>\n",
              "      <td>7000.0</td>\n",
              "      <td>3000.0</td>\n",
              "      <td>1295.761905</td>\n",
              "      <td>798.174419</td>\n",
              "      <td>1200.0</td>\n",
              "      <td>788.0</td>\n",
              "      <td>979.648745</td>\n",
              "      <td>459.985964</td>\n",
              "    </tr>\n",
              "  </tbody>\n",
              "</table>\n",
              "</div>"
            ],
            "text/plain": [
              "                                     max            ...          std             \n",
              "Sexo                           Masculino  Feminino  ...    Masculino     Feminino\n",
              "Anos de Estudo                                      ...                          \n",
              "Sem instrução e menos de 1 ano   30000.0   10000.0  ...  1023.904884   639.311534\n",
              "1 ano                            30000.0    2000.0  ...  1331.950552   425.291842\n",
              "2 anos                           40000.0    4000.0  ...  1435.173827   498.234168\n",
              "3 anos                           80000.0    3500.0  ...  2143.800133   424.124446\n",
              "4 anos                           50000.0   10000.0  ...  1419.821787   629.553397\n",
              "5 anos                           35000.0    8000.0  ...  1484.650587   635.782641\n",
              "6 anos                           25000.0    6000.0  ...  1476.628602   574.547028\n",
              "7 anos                           40000.0    9000.0  ...  1419.708673   602.038029\n",
              "8 anos                           30000.0   18000.0  ...  1515.583715   896.781213\n",
              "9 anos                           60000.0   20000.0  ...  2137.664774   973.221652\n",
              "10 anos                          45000.0    6000.0  ...  2078.609734   620.611907\n",
              "11 anos                         200000.0  100000.0  ...  2676.538942  1819.040417\n",
              "12 anos                          30000.0  120000.0  ...  2268.081538  4851.833513\n",
              "13 anos                          25000.0   20000.0  ...  2797.116800  2053.789771\n",
              "14 anos                          50000.0   20000.0  ...  3987.214974  2064.083336\n",
              "15 anos ou mais                 200000.0  100000.0  ...  7447.613594  4212.770709\n",
              "Não determinados                  7000.0    3000.0  ...   979.648745   459.985964\n",
              "\n",
              "[17 rows x 8 columns]"
            ]
          },
          "metadata": {
            "tags": []
          },
          "execution_count": 64
        }
      ]
    },
    {
      "cell_type": "markdown",
      "metadata": {
        "id": "1Rm1n7a_Tg2u"
      },
      "source": [
        "### Construindo um box plot da variável RENDA segundo ANOS DE ESTUDO e SEXO"
      ]
    },
    {
      "cell_type": "code",
      "metadata": {
        "id": "rgMU0WyJTg2v",
        "colab": {
          "base_uri": "https://localhost:8080/",
          "height": 325
        },
        "outputId": "1b2a8044-2af3-4670-c2d9-7bf658e4cbb5"
      },
      "source": [
        "#Construção do boxplot a partir de dados que apresentem uma renda inferior ou igual a R$10.000,00\n",
        "anos_de_estudo_list = list(anos_de_estudo.values())\n",
        "boxplot2 = sns.boxplot(data = dados_filtrado, x = 'Renda', y = 'Anos de Estudo', orient = 'h', palette = 'mako', hue = 'Sexo')\n",
        "boxplot2.figure.set_size_inches(16,8)\n",
        "boxplot2.set_title('Boxplot de Renda por Anos de estudo e cor', fontsize = 20)\n",
        "boxplot2.set_xlabel('Renda', fontsize = 14)\n",
        "boxplot2.set_ylabel('Anos de estudo', fontsize = 14)\n",
        "boxplot2.set_yticklabels(labels = anos_de_estudo_list, fontsize = 14);\n",
        "handles, _ = grafico3.get_legend_handles_labels()\n",
        "boxplot2.legend(handles, ['Masculino', 'Feminino'])"
      ],
      "execution_count": 125,
      "outputs": [
        {
          "output_type": "execute_result",
          "data": {
            "text/plain": [
              "<matplotlib.legend.Legend at 0x7f93eced5750>"
            ]
          },
          "metadata": {
            "tags": []
          },
          "execution_count": 125
        },
        {
          "output_type": "display_data",
          "data": {
            "image/png": "[encoded data removed]",
            "text/plain": [
              "<Figure size 1152x576 with 1 Axes>"
            ]
          },
          "metadata": {
            "tags": [],
            "needs_background": "light"
          }
        }
      ]
    },
    {
      "cell_type": "markdown",
      "metadata": {
        "id": "LrEECOmNTg2w"
      },
      "source": [
        "> ### Conclusões\n",
        "\n",
        "A partir do boxplot acima é perceptível que existe uam desigualdade entre a renda de homens e mulheres.\n",
        "\n",
        "É observado pela visualização do boxplot acima que as mulheres mesmo que com mais anos de estudos que os homens ainda apresentam uma renda inferior a deles.\n",
        "\n",
        "abaixo iriei realizar mais um boxplot com as mesmas variéveis, porém entre pessoas com a mesma idade para observar se esta desigualdade ainda é observada."
      ]
    },
    {
      "cell_type": "code",
      "metadata": {
        "colab": {
          "base_uri": "https://localhost:8080/",
          "height": 392
        },
        "id": "1Gqg6MoqtT1B",
        "outputId": "1c6bd9c3-a092-4798-ef31-cbbcfff4db40"
      },
      "source": [
        "# selecionando a apenas pessoas que apresentam uma renda menor ou igual a R$10.000,00 e idade igual a 40 anos\n",
        "selecao = (dados.Renda < 10000) & (dados.Idade == 40)\n",
        "dados_filtrados2 = dados[selecao]\n",
        "boxplot3 = sns.boxplot(data = dados_filtrados2, x = \"Renda\", y = 'Anos de Estudo',\n",
        "                       hue = 'Sexo', palette = 'mako', orient = 'h')\n",
        "boxplot3.figure.set_size_inches(16,8)\n",
        "boxplot3.set_title('Boxplot de renda por anos de estudo e sexo (com Pessoas de mesma idade)', fontsize = 20)\n",
        "boxplot3.set_xlabel('Renda', fontsize = 14)\n",
        "boxplot3.set_ylabel('Anos de Estudo', fontsize = 14);\n",
        "handles, _ = boxplot3.get_legend_handles_labels()\n",
        "boxplot3.legend(handles,['masculino', 'feminino'])"
      ],
      "execution_count": 121,
      "outputs": [
        {
          "output_type": "execute_result",
          "data": {
            "text/plain": [
              "<matplotlib.legend.Legend at 0x7f93e69d4550>"
            ]
          },
          "metadata": {
            "tags": []
          },
          "execution_count": 121
        },
        {
          "output_type": "display_data",
          "data": {
            "image/png": "[encoded data removed]",
            "text/plain": [
              "<Figure size 1152x576 with 1 Axes>"
            ]
          },
          "metadata": {
            "tags": [],
            "needs_background": "light"
          }
        }
      ]
    },
    {
      "cell_type": "markdown",
      "metadata": {
        "id": "AH71DbRayEO4"
      },
      "source": [
        "### Conclusões\n",
        "Mesmo realizando o boxplot com pessoas de mesma idade a desigualdade de renda entre homens e mulheres ainda fica evidente, com pessoas do sexo feminino com mais anos de estudo apresentando uma renda inferior a de pessoas do sexo masculino com menos anos de estudo."
      ]
    },
    {
      "cell_type": "markdown",
      "metadata": {
        "id": "0fIFSxj8Tg2x"
      },
      "source": [
        "### Observando a média, mediana, valor máximo e desvio-padrão da variável RENDA segundo as UNIDADES DA FEDERAÇÃO"
      ]
    },
    {
      "cell_type": "code",
      "metadata": {
        "id": "91IxQFJoTg2x",
        "colab": {
          "base_uri": "https://localhost:8080/",
          "height": 906
        },
        "outputId": "83fa6e18-49ff-420b-bef5-1595f4140009"
      },
      "source": [
        "tabela_3 = dados.groupby(['UF']).agg(func = {'Renda': ['mean', 'median', 'max', 'std']})\n",
        "tabela_3.rename(index = uf, columns = {'mean': 'média', 'median': 'mediana', 'max': 'máximo', 'std': 'desvio padrão'}, inplace = True)\n",
        "tabela_3"
      ],
      "execution_count": 143,
      "outputs": [
        {
          "output_type": "execute_result",
          "data": {
            "text/html": [
              "<div>\n",
              "<style scoped>\n",
              "    .dataframe tbody tr th:only-of-type {\n",
              "        vertical-align: middle;\n",
              "    }\n",
              "\n",
              "    .dataframe tbody tr th {\n",
              "        vertical-align: top;\n",
              "    }\n",
              "\n",
              "    .dataframe thead tr th {\n",
              "        text-align: left;\n",
              "    }\n",
              "\n",
              "    .dataframe thead tr:last-of-type th {\n",
              "        text-align: right;\n",
              "    }\n",
              "</style>\n",
              "<table border=\"1\" class=\"dataframe\">\n",
              "  <thead>\n",
              "    <tr>\n",
              "      <th></th>\n",
              "      <th colspan=\"4\" halign=\"left\">Renda</th>\n",
              "    </tr>\n",
              "    <tr>\n",
              "      <th></th>\n",
              "      <th>média</th>\n",
              "      <th>mediana</th>\n",
              "      <th>máximo</th>\n",
              "      <th>desvio padrão</th>\n",
              "    </tr>\n",
              "    <tr>\n",
              "      <th>UF</th>\n",
              "      <th></th>\n",
              "      <th></th>\n",
              "      <th></th>\n",
              "      <th></th>\n",
              "    </tr>\n",
              "  </thead>\n",
              "  <tbody>\n",
              "    <tr>\n",
              "      <th>Rondônia</th>\n",
              "      <td>1789.761223</td>\n",
              "      <td>1200</td>\n",
              "      <td>50000</td>\n",
              "      <td>2406.161161</td>\n",
              "    </tr>\n",
              "    <tr>\n",
              "      <th>Acre</th>\n",
              "      <td>1506.091782</td>\n",
              "      <td>900</td>\n",
              "      <td>30000</td>\n",
              "      <td>2276.233415</td>\n",
              "    </tr>\n",
              "    <tr>\n",
              "      <th>Amazonas</th>\n",
              "      <td>1445.130100</td>\n",
              "      <td>900</td>\n",
              "      <td>22000</td>\n",
              "      <td>1757.935591</td>\n",
              "    </tr>\n",
              "    <tr>\n",
              "      <th>Roraima</th>\n",
              "      <td>1783.588889</td>\n",
              "      <td>1000</td>\n",
              "      <td>20000</td>\n",
              "      <td>2079.659238</td>\n",
              "    </tr>\n",
              "    <tr>\n",
              "      <th>Pará</th>\n",
              "      <td>1399.076871</td>\n",
              "      <td>850</td>\n",
              "      <td>50000</td>\n",
              "      <td>2053.779555</td>\n",
              "    </tr>\n",
              "    <tr>\n",
              "      <th>Amapá</th>\n",
              "      <td>1861.353516</td>\n",
              "      <td>1200</td>\n",
              "      <td>15580</td>\n",
              "      <td>2020.688632</td>\n",
              "    </tr>\n",
              "    <tr>\n",
              "      <th>Tocantins</th>\n",
              "      <td>1771.094946</td>\n",
              "      <td>1000</td>\n",
              "      <td>60000</td>\n",
              "      <td>2934.590741</td>\n",
              "    </tr>\n",
              "    <tr>\n",
              "      <th>Maranhão</th>\n",
              "      <td>1019.432009</td>\n",
              "      <td>700</td>\n",
              "      <td>30000</td>\n",
              "      <td>1887.816905</td>\n",
              "    </tr>\n",
              "    <tr>\n",
              "      <th>Piauí</th>\n",
              "      <td>1074.550784</td>\n",
              "      <td>750</td>\n",
              "      <td>40000</td>\n",
              "      <td>2373.355726</td>\n",
              "    </tr>\n",
              "    <tr>\n",
              "      <th>Ceará</th>\n",
              "      <td>1255.403692</td>\n",
              "      <td>789</td>\n",
              "      <td>25000</td>\n",
              "      <td>1821.963536</td>\n",
              "    </tr>\n",
              "    <tr>\n",
              "      <th>Rio Grande do Norte</th>\n",
              "      <td>1344.721480</td>\n",
              "      <td>800</td>\n",
              "      <td>15500</td>\n",
              "      <td>1651.805500</td>\n",
              "    </tr>\n",
              "    <tr>\n",
              "      <th>Paraíba</th>\n",
              "      <td>1293.370487</td>\n",
              "      <td>788</td>\n",
              "      <td>30000</td>\n",
              "      <td>1950.272431</td>\n",
              "    </tr>\n",
              "    <tr>\n",
              "      <th>Pernambuco</th>\n",
              "      <td>1527.079319</td>\n",
              "      <td>900</td>\n",
              "      <td>50000</td>\n",
              "      <td>2389.622497</td>\n",
              "    </tr>\n",
              "    <tr>\n",
              "      <th>Alagoas</th>\n",
              "      <td>1144.552602</td>\n",
              "      <td>788</td>\n",
              "      <td>11000</td>\n",
              "      <td>1237.856197</td>\n",
              "    </tr>\n",
              "    <tr>\n",
              "      <th>Sergipe</th>\n",
              "      <td>1109.111111</td>\n",
              "      <td>788</td>\n",
              "      <td>16000</td>\n",
              "      <td>1478.997878</td>\n",
              "    </tr>\n",
              "    <tr>\n",
              "      <th>Bahia</th>\n",
              "      <td>1429.645094</td>\n",
              "      <td>800</td>\n",
              "      <td>200000</td>\n",
              "      <td>3507.917248</td>\n",
              "    </tr>\n",
              "    <tr>\n",
              "      <th>Minas Gerais</th>\n",
              "      <td>2056.432084</td>\n",
              "      <td>1200</td>\n",
              "      <td>100000</td>\n",
              "      <td>3584.721547</td>\n",
              "    </tr>\n",
              "    <tr>\n",
              "      <th>Espírito Santo</th>\n",
              "      <td>2026.383852</td>\n",
              "      <td>1274</td>\n",
              "      <td>100000</td>\n",
              "      <td>3513.846868</td>\n",
              "    </tr>\n",
              "    <tr>\n",
              "      <th>Rio de Janeiro</th>\n",
              "      <td>2496.403168</td>\n",
              "      <td>1400</td>\n",
              "      <td>200000</td>\n",
              "      <td>5214.583518</td>\n",
              "    </tr>\n",
              "    <tr>\n",
              "      <th>São Paulo</th>\n",
              "      <td>2638.104986</td>\n",
              "      <td>1600</td>\n",
              "      <td>80000</td>\n",
              "      <td>3503.777366</td>\n",
              "    </tr>\n",
              "    <tr>\n",
              "      <th>Paraná</th>\n",
              "      <td>2493.870753</td>\n",
              "      <td>1500</td>\n",
              "      <td>200000</td>\n",
              "      <td>4302.937995</td>\n",
              "    </tr>\n",
              "    <tr>\n",
              "      <th>Santa Catarina</th>\n",
              "      <td>2470.854945</td>\n",
              "      <td>1800</td>\n",
              "      <td>80000</td>\n",
              "      <td>3137.651112</td>\n",
              "    </tr>\n",
              "    <tr>\n",
              "      <th>Rio Grande do Sul</th>\n",
              "      <td>2315.158336</td>\n",
              "      <td>1500</td>\n",
              "      <td>35000</td>\n",
              "      <td>2913.335783</td>\n",
              "    </tr>\n",
              "    <tr>\n",
              "      <th>Mato Grosso do Sul</th>\n",
              "      <td>2262.604167</td>\n",
              "      <td>1500</td>\n",
              "      <td>42000</td>\n",
              "      <td>3031.419122</td>\n",
              "    </tr>\n",
              "    <tr>\n",
              "      <th>Mato Grosso</th>\n",
              "      <td>2130.652778</td>\n",
              "      <td>1500</td>\n",
              "      <td>35000</td>\n",
              "      <td>2542.630178</td>\n",
              "    </tr>\n",
              "    <tr>\n",
              "      <th>Goiás</th>\n",
              "      <td>1994.580794</td>\n",
              "      <td>1500</td>\n",
              "      <td>30000</td>\n",
              "      <td>2221.933065</td>\n",
              "    </tr>\n",
              "    <tr>\n",
              "      <th>Distrito Federal</th>\n",
              "      <td>4241.954722</td>\n",
              "      <td>2000</td>\n",
              "      <td>100000</td>\n",
              "      <td>5550.463338</td>\n",
              "    </tr>\n",
              "  </tbody>\n",
              "</table>\n",
              "</div>"
            ],
            "text/plain": [
              "                           Renda                              \n",
              "                           média mediana  máximo desvio padrão\n",
              "UF                                                            \n",
              "Rondônia             1789.761223    1200   50000   2406.161161\n",
              "Acre                 1506.091782     900   30000   2276.233415\n",
              "Amazonas             1445.130100     900   22000   1757.935591\n",
              "Roraima              1783.588889    1000   20000   2079.659238\n",
              "Pará                 1399.076871     850   50000   2053.779555\n",
              "Amapá                1861.353516    1200   15580   2020.688632\n",
              "Tocantins            1771.094946    1000   60000   2934.590741\n",
              "Maranhão             1019.432009     700   30000   1887.816905\n",
              "Piauí                1074.550784     750   40000   2373.355726\n",
              "Ceará                1255.403692     789   25000   1821.963536\n",
              "Rio Grande do Norte  1344.721480     800   15500   1651.805500\n",
              "Paraíba              1293.370487     788   30000   1950.272431\n",
              "Pernambuco           1527.079319     900   50000   2389.622497\n",
              "Alagoas              1144.552602     788   11000   1237.856197\n",
              "Sergipe              1109.111111     788   16000   1478.997878\n",
              "Bahia                1429.645094     800  200000   3507.917248\n",
              "Minas Gerais         2056.432084    1200  100000   3584.721547\n",
              "Espírito Santo       2026.383852    1274  100000   3513.846868\n",
              "Rio de Janeiro       2496.403168    1400  200000   5214.583518\n",
              "São Paulo            2638.104986    1600   80000   3503.777366\n",
              "Paraná               2493.870753    1500  200000   4302.937995\n",
              "Santa Catarina       2470.854945    1800   80000   3137.651112\n",
              "Rio Grande do Sul    2315.158336    1500   35000   2913.335783\n",
              "Mato Grosso do Sul   2262.604167    1500   42000   3031.419122\n",
              "Mato Grosso          2130.652778    1500   35000   2542.630178\n",
              "Goiás                1994.580794    1500   30000   2221.933065\n",
              "Distrito Federal     4241.954722    2000  100000   5550.463338"
            ]
          },
          "metadata": {
            "tags": []
          },
          "execution_count": 143
        }
      ]
    },
    {
      "cell_type": "markdown",
      "metadata": {
        "id": "6NfAKimkTg2y"
      },
      "source": [
        "### Construindo um box plot da variável RENDA segundo as UNIDADES DA FEDERAÇÃO com dados de pessoas que apresentem uma renda de até R$10.000,00 para uma melhor visualização do boxplot"
      ]
    },
    {
      "cell_type": "code",
      "metadata": {
        "id": "XdEGG3blTg2z",
        "colab": {
          "base_uri": "https://localhost:8080/",
          "height": 376
        },
        "outputId": "7bef646f-d87c-4077-c064-b55d02e52b9e"
      },
      "source": [
        "uf_list = uf.values();\n",
        "boxplot4 = sns.boxplot(data = dados_filtrado, x = 'Renda', y = 'UF', orient = 'h', palette = 'RdPu_r')\n",
        "boxplot4.figure.set_size_inches(18,10)\n",
        "boxplot4.set_xlabel('Renda', fontsize = 14)\n",
        "boxplot4.set_ylabel('Estados', fontsize = 14)\n",
        "boxplot4.set_title('Boxplot de Renda por Unidades de Federação', fontsize = 20)\n",
        "boxplot4.set_yticklabels(labels = uf_list);"
      ],
      "execution_count": 141,
      "outputs": [
        {
          "output_type": "display_data",
          "data": {
            "image/png": "[encoded data removed]",
            "text/plain": [
              "<Figure size 1296x720 with 1 Axes>"
            ]
          },
          "metadata": {
            "tags": [],
            "needs_background": "light"
          }
        }
      ]
    },
    {
      "cell_type": "markdown",
      "metadata": {
        "id": "7ssOt3MRTg22"
      },
      "source": [
        "> ### Conclusões\n",
        "\n",
        "A partir do boxplot de renda por unidade de federação, é visível que algumas unidades apresentam uma renda maior que as demais como por exemplo o Distrito Federal. Assim como as unidades da região sudeste apresentam uma uma renda maior que as da região nordeste e norte.\n",
        "\n",
        "Isto deve ocorrer porque cada estado apresenta um custo de vida diferente, além de algumas unidades apresentarem maior desenvolvimento."
      ]
    }
  ]
}